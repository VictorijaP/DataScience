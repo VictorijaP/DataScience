{
 "cells": [
  {
   "cell_type": "markdown",
   "metadata": {},
   "source": [
    "___\n",
    "\n",
    "<a href='https://mainacademy.ua/'> <img src='https://mainacademy.ua/wp-content/uploads/2019/03/logo-main.png' alt = 'Хмм, щось з інтернетом'/></a>\n",
    "___\n",
    "\n",
    "# Module 4: Work with data professionally!"
   ]
  },
  {
   "cell_type": "markdown",
   "metadata": {},
   "source": [
    "## Lab work 4\n",
    "\n"
   ]
  },
  {
   "cell_type": "markdown",
   "metadata": {},
   "source": [
    "#### Мета: \n",
    "\n",
    "* навчитися обробляти дані\n",
    "* \"парсити\" сайти"
   ]
  },
  {
   "cell_type": "markdown",
   "metadata": {},
   "source": [
    "### Завдання 1:"
   ]
  },
  {
   "cell_type": "markdown",
   "metadata": {},
   "source": [
    "#### Ознайомитися із API Національного банку \n",
    "https://old.bank.gov.ua/control/uk/publish/article?art_id=38441973&cat_id=38459171#exchange\n",
    "\n"
   ]
  },
  {
   "cell_type": "markdown",
   "metadata": {},
   "source": [
    "1. Підключитися до API.\n"
   ]
  },
  {
   "cell_type": "code",
   "execution_count": 103,
   "metadata": {},
   "outputs": [],
   "source": [
    "import requests\n",
    "\n",
    "link = 'https://bank.gov.ua/NBUStatService/v1/statdirectory/exchange?date=20200302&json'\n",
    "\n",
    "resp = requests.get(link).json()"
   ]
  },
  {
   "cell_type": "markdown",
   "metadata": {},
   "source": [
    "2. Отримати курс долара за останній рік."
   ]
  },
  {
   "cell_type": "code",
   "execution_count": 212,
   "metadata": {},
   "outputs": [],
   "source": [
    "from datetime import datetime, timedelta, date\n",
    "\n",
    "def get_USD_rate():\n",
    "    ''' Загружает по API курс доллара за год, начиная с 1.11.20\n",
    "        Возвращает список словарей USD_rates'''\n",
    "    \n",
    "    USD_rates = []\n",
    "\n",
    "    start_date = date(2020, 11, 1)\n",
    "\n",
    "    params = {'date': start_date.strftime('%Y%m%d'), 'valcode': 'USD', 'json': 'json'}\n",
    "    link = 'https://bank.gov.ua/NBUStatService/v1/statdirectory/exchange'\n",
    "    resp = requests.get(link, params=params).json()\n",
    "\n",
    "    for i in range(1,366):\n",
    "        resp = requests.get(link, params=params).json()\n",
    "        USD_rates.extend(resp)\n",
    "        params['date'] = (start_date + timedelta(days=i)).strftime('%Y%m%d')\n",
    "        \n",
    "    return USD_rates\n"
   ]
  },
  {
   "cell_type": "markdown",
   "metadata": {},
   "source": [
    "3. Вивести середнє значення та відхилення курсу за кожний місяць."
   ]
  },
  {
   "cell_type": "code",
   "execution_count": 281,
   "metadata": {},
   "outputs": [
    {
     "name": "stdout",
     "output_type": "stream",
     "text": [
      "Средний курс: 28.22,  отклонение: 0.2\n",
      "Средний курс: 27.88,  отклонение: 0.1\n",
      "Средний курс: 27.8,  отклонение: 0.08\n",
      "Средний курс: 27.93,  отклонение: 0.12\n",
      "Средний курс: 27.6,  отклонение: 0.02\n",
      "Средний курс: 27.24,  отклонение: 0.08\n",
      "Средний курс: 27.21,  отклонение: 0.09\n",
      "Средний курс: 26.78,  отклонение: 0.21\n",
      "Средний курс: 26.73,  отклонение: 0.23\n",
      "Средний курс: 26.37,  отклонение: 0.33\n",
      "Средний курс: 28.31,  отклонение: 0.23\n",
      "Средний курс: 28.17,  отклонение: 0.19\n"
     ]
    }
   ],
   "source": [
    "def mean_rate_year(x):\n",
    "    ''' считает среднее значение курса за год. Принимает список x, возвращае среднее значение mean_rate '''\n",
    "    \n",
    "    mean_rate = sum([float(r['rate']) for r in x]) / len(x)\n",
    "    \n",
    "    return mean_rate\n",
    "\n",
    "\n",
    "def mean_rate_month(lst):\n",
    "    ''' считает список средних значений курсов по месяцам, принимает список lst, возвращает список mean_month_rate '''\n",
    "    \n",
    "    mean_month_rate = []\n",
    "    \n",
    "    for m in range(1, 13):\n",
    "        month_rate = []\n",
    "        for rt in lst:\n",
    "            if int(rt['exchangedate'][3:5]) == m:\n",
    "                month_rate.append(float(rt['rate']))\n",
    "            else:\n",
    "                continue\n",
    "            s_m = round(sum(month_rate) / len(month_rate), 2)\n",
    "        mean_month_rate.append(s_m)\n",
    "        \n",
    "    return mean_month_rate\n",
    "\n",
    "\n",
    "def deviat_month():\n",
    "    '''считает отклоненение курса за каждый месяц\n",
    "    lst - список средних курсов за каждый месяц, итерируемый объект\n",
    "    mean_mean - среднее выборки\n",
    "    возвращает словарь st_dev - отклонения за каждый месяц''' \n",
    "    \n",
    "    from math import sqrt\n",
    "    \n",
    "    dev_dic = {}\n",
    "    mean_rate = mean_rate_year(USD_rates) #среднее годовое\n",
    "    lst = mean_rate_month(USD_rates)\n",
    "    \n",
    "    for m in range(1, 13):\n",
    "        for d in lst:\n",
    "            dev = sqrt(((d - mean_rate)**2) / len(lst))\n",
    "            dev_dic[d] = round(dev, 2)\n",
    "\n",
    "    \n",
    "    return dev_dic\n",
    "\n",
    "\n",
    "    "
   ]
  },
  {
   "cell_type": "markdown",
   "metadata": {},
   "source": [
    "4. Дану інформацію записати у файл за допомогою pickle."
   ]
  },
  {
   "cell_type": "code",
   "execution_count": 283,
   "metadata": {},
   "outputs": [
    {
     "name": "stdout",
     "output_type": "stream",
     "text": [
      "Средний курс: 28.22,  отклонение: 0.2\n",
      "Средний курс: 27.88,  отклонение: 0.1\n",
      "Средний курс: 27.8,  отклонение: 0.08\n",
      "Средний курс: 27.93,  отклонение: 0.12\n",
      "Средний курс: 27.6,  отклонение: 0.02\n",
      "Средний курс: 27.24,  отклонение: 0.08\n",
      "Средний курс: 27.21,  отклонение: 0.09\n",
      "Средний курс: 26.78,  отклонение: 0.21\n",
      "Средний курс: 26.73,  отклонение: 0.23\n",
      "Средний курс: 26.37,  отклонение: 0.33\n",
      "Средний курс: 28.31,  отклонение: 0.23\n",
      "Средний курс: 28.17,  отклонение: 0.19\n"
     ]
    }
   ],
   "source": [
    "def main():\n",
    "    \n",
    "    dev = deviat_month()\n",
    "    \n",
    "    for k, v in dev.items():\n",
    "        print(f'Средний курс: {k},  отклонение: {v}')\n",
    "\n",
    "    import pickle\n",
    "\n",
    "    with open('dev_USD_rate.pickle', 'wb') as f:\n",
    "        pickle.dump(dev, f)\n",
    "    \n",
    "if __name__ == '__main__':\n",
    "    main()\n",
    "    "
   ]
  },
  {
   "cell_type": "markdown",
   "metadata": {},
   "source": [
    "### Завдання 2:"
   ]
  },
  {
   "cell_type": "markdown",
   "metadata": {},
   "source": [
    "Потрібно проаналізувати всі товари на сайті: \n",
    "https://smallpacking.agrosem.ua/shop/"
   ]
  },
  {
   "cell_type": "markdown",
   "metadata": {},
   "source": [
    "Створіть базу даних, що містить таблицю із такими стовбцями: \n",
    "    - артикул товару\n",
    "    - найменування\n",
    "    - ціна \n",
    "    - вага"
   ]
  },
  {
   "cell_type": "code",
   "execution_count": 252,
   "metadata": {},
   "outputs": [],
   "source": [
    "import requests\n",
    "from bs4 import BeautifulSoup\n",
    "\n",
    "headers = {\n",
    "    'Connection': 'keep-alive',\n",
    "    'Cache-Control': 'max-age=0',\n",
    "    'sec-ch-ua': '\"Google Chrome\";v=\"95\", \"Chromium\";v=\"95\", \";Not A Brand\";v=\"99\"',\n",
    "    'sec-ch-ua-mobile': '?0',\n",
    "    'sec-ch-ua-platform': '\"Windows\"',\n",
    "    'Upgrade-Insecure-Requests': '1',\n",
    "    'User-Agent': 'Mozilla/5.0 (Windows NT 10.0; Win64; x64) AppleWebKit/537.36 (KHTML, like Gecko) Chrome/95.0.4638.69 Safari/537.36',\n",
    "    'Accept': 'text/html,application/xhtml+xml,application/xml;q=0.9,image/avif,image/webp,image/apng,*/*;q=0.8,application/signed-exchange;v=b3;q=0.9',\n",
    "    'Sec-Fetch-Site': 'same-origin',\n",
    "    'Sec-Fetch-Mode': 'navigate',\n",
    "    'Sec-Fetch-User': '?1',\n",
    "    'Sec-Fetch-Dest': 'document',\n",
    "    'Referer': 'https://smallpacking.agrosem.ua/shop/page/2/',\n",
    "    'Accept-Language': 'ru-RU,ru;q=0.9,en-US;q=0.8,en;q=0.7',\n",
    "}\n",
    "\n",
    "response = requests.get('https://smallpacking.agrosem.ua/shop/', headers=headers)\n",
    "\n",
    "\n",
    "link = 'https://smallpacking.agrosem.ua/shop/'\n",
    "\n",
    "def get_soup(link, headers):\n",
    "    soup = None\n",
    "    try:\n",
    "        res = requests.get(link, headers=headers)\n",
    "        soup = BeautifulSoup(res.text, 'lxml')\n",
    "    except Exception as e:\n",
    "        print(e)\n",
    "    \n",
    "    return soup\n",
    "\n",
    "def qty_pages(link, headers):\n",
    "    pages = []\n",
    "    max_page = 0\n",
    "    \n",
    "    soup = get_soup(link, headers)\n",
    "    \n",
    "    if soup != None:       \n",
    "        for page in soup.find('ul', class_='page-numbers').find_all('li'):\n",
    "            page = page.find('a')\n",
    "            if page != None:\n",
    "                max_page = page.text\n",
    "                if max_page != '':\n",
    "                    max_page = int(max_page)\n",
    "                    pages.append(max_page)\n",
    "                else:\n",
    "                    continue\n",
    "            else:\n",
    "                continue\n",
    "        \n",
    "        pages = sorted(pages, reverse = True)\n",
    "        max_page = pages[0]\n",
    "    \n",
    "    return max_page\n",
    "\n",
    "\n",
    "def get_goods(page):\n",
    "    '''получает товары по всем страницам сайта'''\n",
    "    \n",
    "    soup = get_soup(link+f'/page/{page}', headers)\n",
    "        \n",
    "    if soup != None:\n",
    "        for item in soup.find_all('div', class_='product-from-category-container'):\n",
    "            name = item.find('a').find('span', class_='pruduct-name-bottom').text\n",
    "            \n",
    "            price = item.find('span', class_='regular-price').text[:-4]\n",
    "            if price != None and price != '':\n",
    "                price = float(price.replace(' ', ''))\n",
    "            else:\n",
    "                price = 0\n",
    "        \n",
    "            href = item.find('a').get('href')\n",
    "            res_inn = requests.get(href)\n",
    "            soup_inn = BeautifulSoup(res_inn.text, 'lxml')\n",
    "            sku = soup_inn.find('span', itemprop='productID').text.split()[1]\n",
    "\n",
    "            good_attr = soup_inn.find(\"div\", class_=\"atributes-description\")\n",
    "            weight = good_attr.find(\"tr\", {\"class\" : \"woocommerce-product-attributes-item woocommerce-product-attributes-item--attribute_pa_vaga\"}) \n",
    "    \n",
    "            if weight != None : \n",
    "                weight = weight.td.p.text.replace(\"кг\", \"\").replace(\" \", \"\")\n",
    "        \n",
    "                if weight.isnumeric():\n",
    "                    weight = float(weight)\n",
    "            else:\n",
    "                weight = float(0)\n",
    "                            \n",
    "            insert_items(sku, name, price, weight)\n",
    "        \n",
    "        "
   ]
  },
  {
   "cell_type": "code",
   "execution_count": 253,
   "metadata": {},
   "outputs": [],
   "source": [
    "import sqlite3\n",
    "\n",
    "sql_text = '''CREATE TABLE IF NOT EXISTS goods(\n",
    "                                    sku TEXT,\n",
    "                                    name TEXT NOT NULL,\n",
    "                                    price FLOAT,\n",
    "                                    weight FLOAT\n",
    "                                    )\n",
    "\n",
    "'''\n",
    "conn = sqlite3.connect('agro_sem_db')\n",
    "curs = conn.cursor()\n",
    "curs.execute(sql_text)\n",
    "conn.close()"
   ]
  },
  {
   "cell_type": "code",
   "execution_count": 254,
   "metadata": {
    "scrolled": false
   },
   "outputs": [],
   "source": [
    "def insert_items(sku, name, price, weight):\n",
    "    sql_text = '''INSERT INTO goods (sku, name, price, weight) VALUES(?, ?, ?, ?)'''\n",
    "    \n",
    "    conn = sqlite3.connect('agro_sem_db')\n",
    "    curs = conn.cursor()\n",
    "    curs.execute(sql_text, (sku, name, price, weight))\n",
    "    conn.commit()\n",
    "    conn.close()\n"
   ]
  },
  {
   "cell_type": "code",
   "execution_count": 255,
   "metadata": {},
   "outputs": [],
   "source": [
    "if __name__ == '__main__':\n",
    "    \n",
    "    max_page = qty_pages(link, headers)\n",
    "    \n",
    "    for i in range(1, max_page+1):\n",
    "        get_goods(i)\n"
   ]
  },
  {
   "cell_type": "markdown",
   "metadata": {},
   "source": [
    "### Завдання 3: "
   ]
  },
  {
   "cell_type": "markdown",
   "metadata": {},
   "source": [
    "Ознайомтеся із роботою SQLite та відповідним модулем у Python.\n",
    "Завантажте базу даних для виконання лабораторної роботи.\n",
    "Підключіться до завантаженої бази SQLite."
   ]
  },
  {
   "cell_type": "markdown",
   "metadata": {},
   "source": [
    "1. Виведіть інформацію про дану базу."
   ]
  },
  {
   "cell_type": "code",
   "execution_count": 262,
   "metadata": {},
   "outputs": [
    {
     "name": "stdout",
     "output_type": "stream",
     "text": [
      "Customers\n",
      "[(0, 'cust_id', 'char(10)', 1, None, 1), (1, 'cust_name', 'char(50)', 1, None, 0), (2, 'cust_address', 'char(50)', 0, None, 0), (3, 'cust_city', 'char(50)', 0, None, 0), (4, 'cust_state', 'char(5)', 0, None, 0), (5, 'cust_zip', 'char(10)', 0, None, 0), (6, 'cust_country', 'char(50)', 0, None, 0), (7, 'cust_contact', 'char(50)', 0, None, 0), (8, 'cust_email', 'char(255)', 0, None, 0)]\n",
      "OrderItems\n",
      "[(0, 'order_num', 'int', 1, None, 1), (1, 'order_item', 'int', 1, None, 2), (2, 'prod_id', 'char(10)', 1, None, 0), (3, 'quantity', 'int', 1, None, 0), (4, 'item_price', 'decimal(8,2)', 1, None, 0)]\n",
      "Orders\n",
      "[(0, 'order_num', 'int', 1, None, 1), (1, 'order_date', 'datetime', 1, None, 0), (2, 'cust_id', 'char(10)', 1, None, 0)]\n",
      "Products\n",
      "[(0, 'prod_id', 'char(10)', 1, None, 1), (1, 'vend_id', 'char(10)', 1, None, 0), (2, 'prod_name', 'char(255)', 1, None, 0), (3, 'prod_price', 'decimal(8,2)', 1, None, 0), (4, 'prod_desc', 'text', 0, None, 0)]\n",
      "Vendors\n",
      "[(0, 'vend_id', 'char(10)', 1, None, 1), (1, 'vend_name', 'char(50)', 1, None, 0), (2, 'vend_address', 'char(50)', 0, None, 0), (3, 'vend_city', 'char(50)', 0, None, 0), (4, 'vend_state', 'char(5)', 0, None, 0), (5, 'vend_zip', 'char(10)', 0, None, 0), (6, 'vend_country', 'char(50)', 0, None, 0)]\n"
     ]
    }
   ],
   "source": [
    "import sqlite3\n",
    "\n",
    "newline_indent = '\\n   '\n",
    "conn = sqlite3.connect('tysql.sqlite')\n",
    "curs = conn.cursor()\n",
    "\n",
    "result = curs.execute(\"SELECT name FROM sqlite_master WHERE type='table';\").fetchall()\n",
    "table_names = sorted(list(zip(*result))[0])\n",
    "\n",
    "for table_name in table_names:\n",
    "    result = curs.execute(\"PRAGMA table_info('%s')\" % table_name).fetchall()\n",
    "    print(table_name, result, sep = '\\n')\n"
   ]
  },
  {
   "cell_type": "markdown",
   "metadata": {},
   "source": [
    "2. Виведіть перелік всіх таблиць."
   ]
  },
  {
   "cell_type": "code",
   "execution_count": 162,
   "metadata": {},
   "outputs": [
    {
     "name": "stdout",
     "output_type": "stream",
     "text": [
      "Customers\n",
      "OrderItems\n",
      "Orders\n",
      "Products\n",
      "Vendors\n"
     ]
    }
   ],
   "source": [
    "result = curs.execute(\"SELECT name FROM sqlite_master WHERE type='table';\").fetchall()\n",
    "table_names = sorted(list(zip(*result))[0])\n",
    "print(*table_names, sep = '\\n')\n"
   ]
  },
  {
   "cell_type": "markdown",
   "metadata": {},
   "source": [
    "3. Список всіх cust_id з таблиці Customers table."
   ]
  },
  {
   "cell_type": "code",
   "execution_count": 167,
   "metadata": {},
   "outputs": [
    {
     "name": "stdout",
     "output_type": "stream",
     "text": [
      "1000000001\n",
      "1000000002\n",
      "1000000003\n",
      "1000000004\n",
      "1000000005\n"
     ]
    }
   ],
   "source": [
    "result = curs.execute(\"SELECT cust_id FROM Customers;\").fetchall()\n",
    "cust_id = list(zip(*result))[0]\n",
    "print(*cust_id, sep = '\\n')\n"
   ]
  },
  {
   "cell_type": "markdown",
   "metadata": {},
   "source": [
    "4. Всю таблицю Customers table"
   ]
  },
  {
   "cell_type": "code",
   "execution_count": 168,
   "metadata": {},
   "outputs": [
    {
     "name": "stdout",
     "output_type": "stream",
     "text": [
      "('1000000001', 'Village Toys', '200 Maple Lane', 'Detroit', 'MI', '44444', 'USA', 'John Smith', 'sales@villagetoys.com')\n",
      "('1000000002', 'Kids Place', '333 South Lake Drive', 'Columbus', 'OH', '43333', 'USA', 'Michelle Green', None)\n",
      "('1000000003', 'Fun4All', '1 Sunny Place', 'Muncie', 'IN', '42222', 'USA', 'Jim Jones', 'jjones@fun4all.com')\n",
      "('1000000004', 'Fun4All', '829 Riverside Drive', 'Phoenix', 'AZ', '88888', 'USA', 'Denise L. Stephens', 'dstephens@fun4all.com')\n",
      "('1000000005', 'The Toy Store', '4545 53rd Street', 'Chicago', 'IL', '54545', 'USA', 'Kim Howard', None)\n"
     ]
    }
   ],
   "source": [
    "result = curs.execute(\"SELECT * FROM Customers;\").fetchall()\n",
    "print(*result, sep = '\\n')"
   ]
  },
  {
   "cell_type": "markdown",
   "metadata": {},
   "source": [
    "5. Список клієнтів (cust_names) відсортованих від Z до A"
   ]
  },
  {
   "cell_type": "code",
   "execution_count": 171,
   "metadata": {},
   "outputs": [
    {
     "name": "stdout",
     "output_type": "stream",
     "text": [
      "Village Toys\n",
      "The Toy Store\n",
      "Kids Place\n",
      "Fun4All\n",
      "Fun4All\n"
     ]
    }
   ],
   "source": [
    "result = curs.execute(\"SELECT cust_name FROM Customers ORDER BY cust_name DESC;\").fetchall()\n",
    "\n",
    "cust_names = list(zip(*result))[0]\n",
    "print(*cust_names, sep = '\\n')"
   ]
  },
  {
   "cell_type": "markdown",
   "metadata": {},
   "source": [
    "6. Таблицю клієнтів та замовлень (cust_id і order_num) . Відсортуйте по клієнту і потім по даті замовлення"
   ]
  },
  {
   "cell_type": "code",
   "execution_count": 182,
   "metadata": {},
   "outputs": [
    {
     "name": "stdout",
     "output_type": "stream",
     "text": [
      "('1000000001', 20009)\n",
      "('1000000001', 20005)\n",
      "('1000000003', 20006)\n",
      "('1000000004', 20007)\n",
      "('1000000005', 20008)\n"
     ]
    }
   ],
   "source": [
    "result = curs.execute('''\n",
    "                        SELECT customers.cust_id, order_num\n",
    "                        FROM customers JOIN orders ON customers.cust_id = orders.cust_id\n",
    "                        ORDER BY customers.cust_id, orders.order_date;\n",
    "                        \n",
    "                        ''').fetchall()\n",
    "\n",
    "print(*result, sep = '\\n')"
   ]
  },
  {
   "cell_type": "markdown",
   "metadata": {},
   "source": [
    "7. Таблицю (на основі Items) з кількість та вартістю товару. Відсортуйте в порядку спадання по кількості та вартості"
   ]
  },
  {
   "cell_type": "code",
   "execution_count": 184,
   "metadata": {},
   "outputs": [
    {
     "name": "stdout",
     "output_type": "stream",
     "text": [
      "(250, 2.49)\n",
      "(250, 2.49)\n",
      "(250, 2.49)\n",
      "(100, 10.99)\n",
      "(100, 5.49)\n",
      "(100, 2.99)\n",
      "(100, 2.99)\n",
      "(100, 2.99)\n",
      "(50, 11.49)\n",
      "(50, 4.49)\n",
      "(20, 5.99)\n",
      "(10, 11.99)\n",
      "(10, 8.99)\n",
      "(10, 3.49)\n",
      "(10, 3.49)\n",
      "(10, 3.49)\n",
      "(5, 11.99)\n",
      "(5, 4.99)\n"
     ]
    }
   ],
   "source": [
    "result = curs.execute(\"SELECT quantity, item_price FROM OrderItems ORDER BY quantity DESC, item_price DESC;\").fetchall()\n",
    "print(*result, sep = '\\n')"
   ]
  },
  {
   "cell_type": "markdown",
   "metadata": {},
   "source": [
    "8. Товар (з таблиці Products), ціна якого становить 9.49"
   ]
  },
  {
   "cell_type": "code",
   "execution_count": 186,
   "metadata": {},
   "outputs": [
    {
     "name": "stdout",
     "output_type": "stream",
     "text": [
      "('RYL01', 'King doll')\n",
      "('RYL02', 'Queen doll')\n"
     ]
    }
   ],
   "source": [
    "result = curs.execute('''\n",
    "                        SELECT prod_id, prod_name \n",
    "                        FROM Products \n",
    "                        WHERE prod_price = 9.49;\n",
    "                        '''\n",
    "                     ).fetchall()\n",
    "print(*result, sep = '\\n')"
   ]
  },
  {
   "cell_type": "markdown",
   "metadata": {},
   "source": [
    "9. Виведіть назву товару та ціну, яка лежить в діапазоні від  3 до 6. Відсортуйте результат в по ціні в порядку зростання"
   ]
  },
  {
   "cell_type": "code",
   "execution_count": 202,
   "metadata": {},
   "outputs": [
    {
     "name": "stdout",
     "output_type": "stream",
     "text": [
      "('8 inch teddy bear', 5.99)\n",
      "('Fish bean bag toy', 3.49)\n",
      "('Bird bean bag toy', 3.49)\n",
      "('Rabbit bean bag toy', 3.49)\n",
      "('Raggedy Ann', 4.99)\n"
     ]
    }
   ],
   "source": [
    "result = curs.execute('''\n",
    "                        SELECT prod_name, prod_price \n",
    "                        FROM Products \n",
    "                        WHERE prod_price BETWEEN 3 AND 6;\n",
    "                        '''\n",
    "                     ).fetchall()\n",
    "print(*result, sep = '\\n')"
   ]
  },
  {
   "cell_type": "markdown",
   "metadata": {},
   "source": [
    "10. Кількість товару, що було продано"
   ]
  },
  {
   "cell_type": "code",
   "execution_count": 189,
   "metadata": {},
   "outputs": [
    {
     "name": "stdout",
     "output_type": "stream",
     "text": [
      "1430\n"
     ]
    }
   ],
   "source": [
    "result = curs.execute('SELECT sum(quantity) FROM OrderItems;').fetchall()\n",
    "quant = list(zip(*result))[0]\n",
    "print(*quant, sep = '\\n')"
   ]
  },
  {
   "cell_type": "markdown",
   "metadata": {},
   "source": [
    "11. Кількість найменувань товару, ціна якого більша за 4"
   ]
  },
  {
   "cell_type": "code",
   "execution_count": 190,
   "metadata": {},
   "outputs": [
    {
     "name": "stdout",
     "output_type": "stream",
     "text": [
      "6\n"
     ]
    }
   ],
   "source": [
    "result = curs.execute(\"SELECT count(prod_name) FROM Products WHERE prod_price > 4;\").fetchall()\n",
    "quant = list(zip(*result))[0]\n",
    "print(*quant, sep = '\\n')"
   ]
  },
  {
   "cell_type": "markdown",
   "metadata": {},
   "source": [
    "12. Розробіть алгоритм для виведення 3 найдорожчих товарів в базі"
   ]
  },
  {
   "cell_type": "code",
   "execution_count": 197,
   "metadata": {},
   "outputs": [
    {
     "name": "stdout",
     "output_type": "stream",
     "text": [
      "('18 inch teddy bear', 11.99)\n",
      "('King doll', 9.49)\n",
      "('Queen doll', 9.49)\n"
     ]
    }
   ],
   "source": [
    "result = curs.execute(\"SELECT prod_name, prod_price FROM Products ORDER BY prod_price DESC LIMIT 3;\").fetchall()\n",
    "print(*result, sep = '\\n')"
   ]
  },
  {
   "cell_type": "markdown",
   "metadata": {},
   "source": [
    "13. Підрахуйте кількість замовлень для кожного клієнта використовуючи підзапити"
   ]
  },
  {
   "cell_type": "code",
   "execution_count": 204,
   "metadata": {},
   "outputs": [
    {
     "name": "stdout",
     "output_type": "stream",
     "text": [
      "('Village Toys', 2)\n",
      "('Fun4All', 1)\n",
      "('The Toy Store', 1)\n"
     ]
    }
   ],
   "source": [
    "result = curs.execute('''\n",
    "                        SELECT DISTINCT cst.cust_name, count(order_num)\n",
    "                        FROM Orders JOIN \n",
    "                            (SELECT cust_id, cust_name FROM Customers) AS cst \n",
    "                        ON cst.cust_id = Orders.cust_id \n",
    "                        GROUP by Orders.cust_id;\n",
    "                        '''\n",
    "                     ).fetchall()\n",
    "print(*result, sep = '\\n')"
   ]
  },
  {
   "cell_type": "markdown",
   "metadata": {},
   "source": [
    "14. Виведіть список клієнтів та їх замовлення (використайте JOIN)"
   ]
  },
  {
   "cell_type": "code",
   "execution_count": 203,
   "metadata": {},
   "outputs": [
    {
     "name": "stdout",
     "output_type": "stream",
     "text": [
      "('Village Toys', 20005, 'BR01', 100)\n",
      "('Village Toys', 20005, 'BR03', 100)\n",
      "('Fun4All', 20006, 'BR01', 20)\n",
      "('Fun4All', 20006, 'BR02', 10)\n",
      "('Fun4All', 20006, 'BR03', 10)\n",
      "('Fun4All', 20007, 'BR03', 50)\n",
      "('Fun4All', 20007, 'BNBG01', 100)\n",
      "('Fun4All', 20007, 'BNBG02', 100)\n",
      "('Fun4All', 20007, 'BNBG03', 100)\n",
      "('Fun4All', 20007, 'RGAN01', 50)\n",
      "('The Toy Store', 20008, 'RGAN01', 5)\n",
      "('The Toy Store', 20008, 'BR03', 5)\n",
      "('The Toy Store', 20008, 'BNBG01', 10)\n",
      "('The Toy Store', 20008, 'BNBG02', 10)\n",
      "('The Toy Store', 20008, 'BNBG03', 10)\n",
      "('Village Toys', 20009, 'BNBG01', 250)\n",
      "('Village Toys', 20009, 'BNBG02', 250)\n",
      "('Village Toys', 20009, 'BNBG03', 250)\n"
     ]
    }
   ],
   "source": [
    "result = curs.execute('''\n",
    "\n",
    "                        SELECT DISTINCT customers.cust_name, orders.order_num, orderitems.prod_id, orderitems.quantity\n",
    "                        FROM customers JOIN orders JOIN orderitems\n",
    "                        ON customers.cust_id = orders.cust_id \n",
    "                        AND orders.order_num = orderitems.order_num;\n",
    "                        \n",
    "                        '''\n",
    "                     ).fetchall()\n",
    "print(*result, sep = '\\n')"
   ]
  },
  {
   "cell_type": "markdown",
   "metadata": {},
   "source": [
    "15. Зробіть два запити: список товарів, ціна яких менша 5 та список товарів, ціна який більша рівна 5. Використайте UNION для об'єднання цих запитів"
   ]
  },
  {
   "cell_type": "code",
   "execution_count": 200,
   "metadata": {},
   "outputs": [
    {
     "name": "stdout",
     "output_type": "stream",
     "text": [
      "('12 inch teddy bear', 8.99)\n",
      "('18 inch teddy bear', 11.99)\n",
      "('8 inch teddy bear', 5.99)\n",
      "('Bird bean bag toy', 3.49)\n",
      "('Fish bean bag toy', 3.49)\n",
      "('King doll', 9.49)\n",
      "('Queen doll', 9.49)\n",
      "('Rabbit bean bag toy', 3.49)\n",
      "('Raggedy Ann', 4.99)\n"
     ]
    }
   ],
   "source": [
    "result = curs.execute('''\n",
    "                        SELECT prod_name, prod_price\n",
    "                        FROM Products WHERE prod_price < 5\n",
    "                        \n",
    "                        UNION\n",
    "                        \n",
    "                        SELECT prod_name, prod_price\n",
    "                        FROM Products WHERE prod_price >= 5;\n",
    "                        \n",
    "                        '''\n",
    "                     ).fetchall()\n",
    "print(*result, sep = '\\n')\n",
    "conn.close()"
   ]
  },
  {
   "cell_type": "markdown",
   "metadata": {},
   "source": [
    "### Завдання 4: "
   ]
  },
  {
   "cell_type": "markdown",
   "metadata": {},
   "source": [
    "Зареєструйтеся на сайті  http://www.sql-ex.ru/\n",
    "\n",
    "Виконайте завдання із блоку SELECT; з 1 по 30 завдання\n",
    "\n",
    "Код запитів вставляйте сюди\n"
   ]
  },
  {
   "cell_type": "code",
   "execution_count": null,
   "metadata": {},
   "outputs": [],
   "source": [
    "SELECT model, speed, hd FROM PC WHERE price < 500;"
   ]
  },
  {
   "cell_type": "code",
   "execution_count": null,
   "metadata": {},
   "outputs": [],
   "source": [
    "SELECT DISTINCT maker FROM Product WHERE type = 'Printer';"
   ]
  },
  {
   "cell_type": "code",
   "execution_count": null,
   "metadata": {},
   "outputs": [],
   "source": [
    "SELECT model, ram, screen FROM Laptop WHERE price > 1000;"
   ]
  },
  {
   "cell_type": "code",
   "execution_count": null,
   "metadata": {},
   "outputs": [],
   "source": [
    "SELECT * FROM Printer WHERE color = 'y';"
   ]
  },
  {
   "cell_type": "code",
   "execution_count": null,
   "metadata": {},
   "outputs": [],
   "source": [
    "SELECT model, speed, hd FROM pc WHERE (cd = '12x' OR cd = '24x') AND price < 600;"
   ]
  },
  {
   "cell_type": "code",
   "execution_count": null,
   "metadata": {},
   "outputs": [],
   "source": [
    "SELECT DISTINCT Product.maker, Laptop.speed\n",
    "FROM Laptop JOIN Product \n",
    "ON Laptop.model = Product.model \n",
    "WHERE Laptop.hd >= 10;"
   ]
  },
  {
   "cell_type": "code",
   "execution_count": null,
   "metadata": {},
   "outputs": [],
   "source": [
    "SELECT Product.model, PC.price FROM Product JOIN PC ON Product.model = PC.model WHERE Product.maker = 'B'\n",
    "UNION\n",
    "SELECT Product.model, Laptop.price FROM Product JOIN Laptop ON Product.model = Laptop.model WHERE Product.maker = 'B'\n",
    "UNION\n",
    "SELECT Product.model, Printer.price FROM Product JOIN Printer ON Product.model = Printer.model WHERE Product.maker = 'B';"
   ]
  },
  {
   "cell_type": "code",
   "execution_count": null,
   "metadata": {},
   "outputs": [],
   "source": [
    "SELECT DISTINCT maker\n",
    "FROM Product AS pc_product\n",
    "WHERE type = 'PC' AND NOT EXISTS\n",
    "    (SELECT maker \n",
    "     FROM Product \n",
    "     WHERE type = 'Laptop' AND maker = pc_product.maker);"
   ]
  },
  {
   "cell_type": "code",
   "execution_count": null,
   "metadata": {},
   "outputs": [],
   "source": [
    "SELECT DISTINCT maker\n",
    "FROM Product JOIN PC\n",
    "ON Product.model = PC.model WHERE PC.speed >= 450;"
   ]
  },
  {
   "cell_type": "code",
   "execution_count": null,
   "metadata": {},
   "outputs": [],
   "source": [
    "SELECT model, price\n",
    "FROM Printer \n",
    "WHERE price IN\n",
    "    (SELECT MAX(price) FROM Printer);"
   ]
  },
  {
   "cell_type": "code",
   "execution_count": null,
   "metadata": {},
   "outputs": [],
   "source": [
    "SELECT AVG(speed) FROM PC;"
   ]
  },
  {
   "cell_type": "code",
   "execution_count": null,
   "metadata": {},
   "outputs": [],
   "source": [
    "SELECT AVG(speed) FROM Laptop WHERE price > 1000;"
   ]
  },
  {
   "cell_type": "code",
   "execution_count": null,
   "metadata": {},
   "outputs": [],
   "source": [
    "SELECT AVG(speed)\n",
    "FROM PC\n",
    "WHERE model IN \n",
    "    (SELECT model \n",
    "     FROM Product \n",
    "     WHERE maker = 'A')"
   ]
  },
  {
   "cell_type": "code",
   "execution_count": null,
   "metadata": {},
   "outputs": [],
   "source": [
    "SELECT Ships.class, Ships.name, Classes.country \n",
    "FROM Ships LEFT JOIN Classes ON Ships.class = Classes.class \n",
    "WHERE Classes.numGuns >= 10;"
   ]
  },
  {
   "cell_type": "code",
   "execution_count": null,
   "metadata": {},
   "outputs": [],
   "source": [
    "SELECT DISTINCT hd \n",
    "FROM PC \n",
    "GROUP BY hd \n",
    "HAVING COUNT(model) >=2;"
   ]
  },
  {
   "cell_type": "code",
   "execution_count": null,
   "metadata": {},
   "outputs": [],
   "source": [
    "SELECT DISTINCT A.model, B.model, A.speed, A.ram \n",
    "FROM PC AS A, PC B \n",
    "WHERE A.speed = B.speed \n",
    "    AND A.ram = B.ram \n",
    "    AND A.model > B.model;"
   ]
  },
  {
   "cell_type": "code",
   "execution_count": null,
   "metadata": {},
   "outputs": [],
   "source": [
    "SELECT DISTINCT Product.type, Laptop.model, Laptop.speed \n",
    "FROM Laptop JOIN Product \n",
    "ON Product.model = Laptop.model\n",
    "WHERE Laptop.speed < ALL \n",
    "    (SELECT speed FROM PC);"
   ]
  },
  {
   "cell_type": "code",
   "execution_count": null,
   "metadata": {},
   "outputs": [],
   "source": [
    "SELECT maker, AVG (screen) \n",
    "FROM Product JOIN Laptop \n",
    "ON Product.model = Laptop.model \n",
    "GROUP BY maker;"
   ]
  },
  {
   "cell_type": "code",
   "execution_count": null,
   "metadata": {},
   "outputs": [],
   "source": [
    "SELECT maker, COUNT(DISTINCT model) as Count_Model \n",
    "FROM Product \n",
    "WHERE type = 'PC' \n",
    "GROUP BY maker \n",
    "HAVING COUNT(DISTINCT model) >= 3;"
   ]
  },
  {
   "cell_type": "code",
   "execution_count": null,
   "metadata": {},
   "outputs": [],
   "source": [
    "SELECT DISTINCT maker, MAX(price) \n",
    "FROM PC JOIN Product \n",
    "ON PC.model = Product.model \n",
    "GROUP BY maker;"
   ]
  },
  {
   "cell_type": "code",
   "execution_count": null,
   "metadata": {},
   "outputs": [],
   "source": [
    "SELECT DISTINCT speed, AVG(price) \n",
    "FROM PC \n",
    "WHERE speed > 600 \n",
    "GROUP BY speed;"
   ]
  },
  {
   "cell_type": "code",
   "execution_count": null,
   "metadata": {},
   "outputs": [],
   "source": [
    "SELECT PR.maker FROM \n",
    "    (SELECT maker \n",
    "     FROM Product JOIN PC \n",
    "     ON Product.model = PC.model \n",
    "     WHERE speed >= 750  \n",
    "     \n",
    "     INTERSECT \n",
    "     \n",
    "     SELECT maker \n",
    "     FROM Product JOIN Laptop \n",
    "     ON Product.model = Laptop.model \n",
    "     WHERE speed >= 750 ) PR;"
   ]
  },
  {
   "cell_type": "code",
   "execution_count": null,
   "metadata": {},
   "outputs": [],
   "source": [
    "WITH RES_OUT (model, price) AS (\n",
    "    SELECT model, price FROM PC\n",
    "    UNION \n",
    "    SELECT model, price FROM Laptop\n",
    "    UNION \n",
    "    SELECT model, price FROM Printer )\n",
    "SELECT model FROM RES_OUT \n",
    "WHERE price = ALL (SELECT MAX(price) FROM RES_OUT);"
   ]
  },
  {
   "cell_type": "code",
   "execution_count": null,
   "metadata": {},
   "outputs": [],
   "source": [
    "SELECT AVG(Res.price) FROM (SELECT model, price FROM PC \n",
    "                                UNION\n",
    "                                SELECT model, price FROM Laptop) Res \n",
    "JOIN Product ON Res.model = Product.model WHERE Product.maker = 'A';"
   ]
  },
  {
   "cell_type": "code",
   "execution_count": null,
   "metadata": {},
   "outputs": [],
   "source": [
    "SELECT COUNT(One_Mod.maker) FROM (SELECT maker FROM Product GROUP BY maker HAVING COUNT(model) = 1) One_Mod;\n"
   ]
  }
 ],
 "metadata": {
  "kernelspec": {
   "display_name": "Python 3 (ipykernel)",
   "language": "python",
   "name": "python3"
  },
  "language_info": {
   "codemirror_mode": {
    "name": "ipython",
    "version": 3
   },
   "file_extension": ".py",
   "mimetype": "text/x-python",
   "name": "python",
   "nbconvert_exporter": "python",
   "pygments_lexer": "ipython3",
   "version": "3.9.7"
  }
 },
 "nbformat": 4,
 "nbformat_minor": 2
}
