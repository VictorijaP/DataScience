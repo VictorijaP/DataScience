{
 "cells": [
  {
   "cell_type": "markdown",
   "id": "ea058890",
   "metadata": {},
   "source": [
    "# 1. Markdown cells\n",
    "\n",
    "* Hi! Its Main Academy?\n",
    "* All HTML labs are supported!\n",
    "* Моя страница на линкедин [Линкедин](https://ru.linkedin.com/in/peter-popkov-939a865/ru)\n",
    "\n",
    "\n",
    "# This is Heading1\n",
    "## This is Heading2\n",
    "\n",
    "some gray colored text:\n",
    ">This is where wew can bring quotes and present them nicely\n",
    "\n",
    "And this is the paragraph about something very important. Even math:\n",
    "\n",
    "$$ y_{sub} = \\sqrt(x_{sub}) $$\n",
    "\n",
    "Or python code example:\n",
    "\n",
    "    import math\n",
    "    def foo():\n",
    "        return \"foo\"\n",
    "\n",
    "\n",
    "\n",
    "Here is the sample mean:\n",
    "$$\n",
    "\\overline{y} = \\frac{1}{n} \\sum_{i=1}^{n} y_{i}\n",
    "$$\n",
    "\n",
    "\n",
    "Here is the sample variance:\n",
    "\n",
    "$$ \n",
    "\\sigma^2 = \\frac{ \\sum_{i=1}^{n} (y_{i} - \\overline{y})^2 }{n-1}\n",
    "$$\n",
    "\n",
    "\n",
    "\n",
    "Here is the sample standart deviation:\n",
    "\n",
    "\n",
    "$$\n",
    "\\sigma = \\sqrt{\\frac{ \\sum_{i=1}^{n} (y_{i} - \\overline{y})^2 }{n-1}}\n",
    "$$\n",
    "\n",
    "\n"
   ]
  }
 ],
 "metadata": {
  "kernelspec": {
   "display_name": "Python 3 (ipykernel)",
   "language": "python",
   "name": "python3"
  },
  "language_info": {
   "codemirror_mode": {
    "name": "ipython",
    "version": 3
   },
   "file_extension": ".py",
   "mimetype": "text/x-python",
   "name": "python",
   "nbconvert_exporter": "python",
   "pygments_lexer": "ipython3",
   "version": "3.9.7"
  }
 },
 "nbformat": 4,
 "nbformat_minor": 5
}
