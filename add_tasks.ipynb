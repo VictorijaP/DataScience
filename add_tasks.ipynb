{
 "cells": [
  {
   "cell_type": "markdown",
   "id": "80a80d1c",
   "metadata": {},
   "source": [
    "### Завдання 1\n",
    "Зробіть рефакторинг наступної програми (тобто використайте list comprehension і елементи функціонального програмування (map, filter)) \n",
    "\n",
    "---------------------------------------->\n",
    "import random\n",
    "\n",
    "list_with_numbers = list(range(10))\n",
    "new_list = []\n",
    "\n",
    "for i in list_with_numbers:\n",
    "    if not i%2:\n",
    "        new_list.append(i + random.random())\n",
    "  \n",
    "print(new_list)"
   ]
  },
  {
   "cell_type": "code",
   "execution_count": 1,
   "id": "9ec093b2",
   "metadata": {},
   "outputs": [
    {
     "name": "stdout",
     "output_type": "stream",
     "text": [
      "[0.8162926437618884, 2.8936989715014225, 4.635214246239648, 6.710283585478931, 8.296230527461477]\n"
     ]
    }
   ],
   "source": [
    "import random\n",
    "\n",
    "list_with_numbers = list(range(10))\n",
    "new_list = []\n",
    "\n",
    "for i in list_with_numbers:\n",
    "    if not i%2:\n",
    "        new_list.append(i + random.random())\n",
    "  \n",
    "print(new_list)"
   ]
  },
  {
   "cell_type": "code",
   "execution_count": 19,
   "id": "59486095",
   "metadata": {},
   "outputs": [
    {
     "name": "stdout",
     "output_type": "stream",
     "text": [
      "[0, 1, 2, 3, 4, 5, 6, 7, 8, 9]\n",
      "[1.4558920155760178, 3.7480927526861763, 5.4211047120824825, 7.487612848265284, 9.104269087125122]\n"
     ]
    }
   ],
   "source": [
    "list_with_numbers = list(range(10))\n",
    "print(list_with_numbers)\n",
    "new_list = [i + random.random() for i in list_with_numbers if i % 2 != 0]\n",
    "print(new_list)"
   ]
  },
  {
   "cell_type": "markdown",
   "id": "ab89acf2",
   "metadata": {},
   "source": [
    "### Завдання 2\n",
    "Зробіть рефакторинг наступної програми (тобто використайте list comprehension і елементи функціонального програмування (map, filter)) \n",
    "\n",
    "---------------------------------------->\n",
    "import string\n",
    "\n",
    "sentence = \"I am @ Python @ senior ^ pomidor\"\n",
    "\n",
    "list_with_words = sentence.split()\n",
    "new_list = []\n",
    "\n",
    "for word in list_with_words:\n",
    "    if not word in string.punctuation:\n",
    "        new_list.append(word)\n",
    "\n",
    "print(new_list)"
   ]
  },
  {
   "cell_type": "code",
   "execution_count": 22,
   "id": "bd5299f8",
   "metadata": {},
   "outputs": [
    {
     "name": "stdout",
     "output_type": "stream",
     "text": [
      "['I', 'am', 'Python', 'senior', 'pomidor']\n"
     ]
    }
   ],
   "source": [
    "import string\n",
    "\n",
    "sentence = \"I am @ Python @ senior ^ pomidor\"\n",
    "\n",
    "new_list = [word for word in list_with_words if word not in string.punctuation]\n",
    "\n",
    "print(new_list)"
   ]
  },
  {
   "cell_type": "markdown",
   "id": "fda97b7a",
   "metadata": {},
   "source": [
    "### Завдання 3\n",
    "\tДано деякий список [(1,1,1), (1,2,3), (-1,-1,7), (-3,-2,8), (0,0,0), (3,-4,-5)]\n",
    "\t\t- відсортуйте даний список по сумі кортежів\n",
    "\t\t- відсортуйте даний список по третіх елементах з кортежів"
   ]
  },
  {
   "cell_type": "code",
   "execution_count": 29,
   "id": "007acf2f",
   "metadata": {},
   "outputs": [
    {
     "name": "stdout",
     "output_type": "stream",
     "text": [
      "[-6, 0, 3, 3, 5, 6]\n"
     ]
    }
   ],
   "source": [
    "some_list = [(1,1,1), (1,2,3), (-1,-1,7), (-3,-2,8), (0,0,0), (3,-4,-5)]\n",
    "\n",
    "sum_of_some_list = sorted([sum(x) for x in some_list])\n",
    "\n",
    "print(sum_of_some_list)\n"
   ]
  },
  {
   "cell_type": "markdown",
   "id": "77aa7aeb",
   "metadata": {},
   "source": [
    "### Завдання 4\n",
    "\tДано словник {'b':3, 'c':2, 'a':4, 'd':1}\n",
    "\t\t- виведіть ключі даного словника в алфавітному порядку\n",
    "\t\t- виедіть ключі даного словника в порядку спадання по значеннях \n"
   ]
  },
  {
   "cell_type": "code",
   "execution_count": 60,
   "id": "607fea0d",
   "metadata": {},
   "outputs": [
    {
     "name": "stdout",
     "output_type": "stream",
     "text": [
      "Ключи словаря в алфавитном порядке: ['a', 'b', 'c', 'd']\n",
      "[('a', 4), ('b', 3), ('c', 2), ('d', 1)]\n",
      "Ключи словаря в порядке убывания по значениям: ['a', 'b', 'c', 'd']\n"
     ]
    }
   ],
   "source": [
    "some_dict = {'b':3, 'c':2, 'a':4, 'd':1}\n",
    "\n",
    "key_of_some_dict = sorted(some_dict)\n",
    "print('Ключи словаря в алфавитном порядке:', key_of_some_dict)\n",
    "\n",
    "# список кортежей, отсортированных по значению по убыванию\n",
    "sort_by_values = sorted(some_dict.items(), key=(lambda x: x[1]), reverse = True)\n",
    "\n",
    "# списко ключей словаря\n",
    "key_sort_by_values = [k for k, v in sort_by_values]\n",
    "                           \n",
    "print('Ключи словаря в порядке убывания по значениям:', key_sort_by_values)\n",
    "                           "
   ]
  },
  {
   "cell_type": "markdown",
   "id": "ffac274f",
   "metadata": {},
   "source": [
    "### Завдання 5\n",
    "\tНапишіть функцію-генератор яка буде повертати літери алфавіту. \n",
    "\t(Щоб отримати алфавіт - використайте ascii_lowercase в бібліотеці string)\n",
    "  "
   ]
  },
  {
   "cell_type": "code",
   "execution_count": 88,
   "id": "256a0a1a",
   "metadata": {
    "scrolled": false
   },
   "outputs": [
    {
     "name": "stdout",
     "output_type": "stream",
     "text": [
      "<generator object alphabet at 0x0000024E6E9D9510>\n"
     ]
    }
   ],
   "source": [
    "import string\n",
    "\n",
    "def alphabet():\n",
    "    for w in string.ascii_lowercase :\n",
    "        yield w\n",
    "        \n",
    "print(alphabet())"
   ]
  },
  {
   "cell_type": "markdown",
   "id": "fb009e2e",
   "metadata": {},
   "source": [
    "### Завдання 6\n",
    "\tНапишіть декоратор, що модифікує функцію таким чином, що результат її виконання повертається у форматі json"
   ]
  },
  {
   "cell_type": "code",
   "execution_count": null,
   "id": "2522b865",
   "metadata": {},
   "outputs": [],
   "source": [
    "\n"
   ]
  }
 ],
 "metadata": {
  "kernelspec": {
   "display_name": "Python 3 (ipykernel)",
   "language": "python",
   "name": "python3"
  },
  "language_info": {
   "codemirror_mode": {
    "name": "ipython",
    "version": 3
   },
   "file_extension": ".py",
   "mimetype": "text/x-python",
   "name": "python",
   "nbconvert_exporter": "python",
   "pygments_lexer": "ipython3",
   "version": "3.9.7"
  }
 },
 "nbformat": 4,
 "nbformat_minor": 5
}
