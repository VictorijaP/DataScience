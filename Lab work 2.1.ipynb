{
 "cells": [
  {
   "cell_type": "markdown",
   "metadata": {},
   "source": [
    "___\n",
    "\n",
    "<a href='https://mainacademy.ua/'> <img src='https://mainacademy.ua/wp-content/uploads/2019/03/logo-main.png' alt = 'Хмм, щось з інтернетом'/></a>\n",
    "___\n",
    "\n",
    "# Module 2: Basic Python"
   ]
  },
  {
   "cell_type": "markdown",
   "metadata": {},
   "source": [
    "## Lab work 2.1\n",
    "\n"
   ]
  },
  {
   "cell_type": "markdown",
   "metadata": {},
   "source": [
    "#### Мета: \n",
    "\n",
    "* навчитися працювати із основними типами та структурами даних в Python;\n",
    "* ознайомитися із базовими алгоритмами;"
   ]
  },
  {
   "cell_type": "markdown",
   "metadata": {},
   "source": [
    "#### Завдання 1"
   ]
  },
  {
   "cell_type": "markdown",
   "metadata": {},
   "source": [
    "Обчислити площу трикутника, коли відома сторона та проведена висота до неї"
   ]
  },
  {
   "cell_type": "code",
   "execution_count": 4,
   "metadata": {},
   "outputs": [
    {
     "name": "stdout",
     "output_type": "stream",
     "text": [
      "6\n",
      "7\n",
      "Площадь треугольника равна 21.0\n"
     ]
    }
   ],
   "source": [
    "a = int(input())\n",
    "h = int(input())\n",
    "S = 0.5 * a * h\n",
    "print('Площадь треугольника равна', S)\n"
   ]
  },
  {
   "cell_type": "markdown",
   "metadata": {},
   "source": [
    "#### Завдання 2"
   ]
  },
  {
   "cell_type": "markdown",
   "metadata": {},
   "source": [
    "Дано трицифрове число. Виведіть окремо кожну цифру числа та суми цифр число\n",
    "\n",
    "Реалізуйте завдання двома способами (використовуючи стрічки та оператори `%`, `//`)"
   ]
  },
  {
   "cell_type": "code",
   "execution_count": 63,
   "metadata": {
    "scrolled": true
   },
   "outputs": [
    {
     "name": "stdout",
     "output_type": "stream",
     "text": [
      "123\n",
      "Первая цифра 1\n",
      "Вторая цифра 2\n",
      "Третья цифра 3\n",
      "Сумма цифр числа 123 равна 6\n"
     ]
    }
   ],
   "source": [
    "N = input()\n",
    "n = list(N)\n",
    "first_digit = int(n[0])\n",
    "second_digit = int(n[1])\n",
    "fird_digit = int(n[2])\n",
    "print('Первая цифра', first_digit)\n",
    "print('Вторая цифра', second_digit)\n",
    "print('Третья цифра', fird_digit)\n",
    "sum_of_digit = first_digit + second_digit + fird_digit\n",
    "print('Сумма цифр числа', N, 'равна', sum_of_digit)"
   ]
  },
  {
   "cell_type": "code",
   "execution_count": 21,
   "metadata": {},
   "outputs": [
    {
     "name": "stdout",
     "output_type": "stream",
     "text": [
      "123\n",
      "Первая цифра 1\n",
      "Вторая цифра 2\n",
      "Третья цифра 3\n",
      "Сумма цифр числа 123 равна 6\n"
     ]
    }
   ],
   "source": [
    "N = int(input())\n",
    "first_digit = N // 100\n",
    "second_digit = (N % 100) // 10\n",
    "fird_digit = N % 10\n",
    "print('Первая цифра', first_digit)\n",
    "print('Вторая цифра', second_digit)\n",
    "print('Третья цифра', fird_digit)\n",
    "sum_of_digit = first_digit + second_digit + fird_digit\n",
    "print('Сумма цифр числа', N, 'равна', sum_of_digit)"
   ]
  },
  {
   "cell_type": "markdown",
   "metadata": {},
   "source": [
    "#### Завдання 3"
   ]
  },
  {
   "cell_type": "markdown",
   "metadata": {},
   "source": [
    "Дано речення (стрічка). \n",
    "* Розбийте речення по словах і помістіть їх у список. \n",
    "* Виведіть кількість слів у речені.\n",
    "* Утворіть нове речення, що складається з першого та останнього слова із початкового речення."
   ]
  },
  {
   "cell_type": "code",
   "execution_count": 32,
   "metadata": {},
   "outputs": [],
   "source": [
    "sentence = 'My favourite tutor in academy is Ihor'"
   ]
  },
  {
   "cell_type": "code",
   "execution_count": 38,
   "metadata": {},
   "outputs": [
    {
     "data": {
      "text/plain": [
       "['My', 'favourite', 'tutor', 'in', 'academy', 'is', 'Ihor']"
      ]
     },
     "execution_count": 38,
     "metadata": {},
     "output_type": "execute_result"
    }
   ],
   "source": [
    "sentence_in_parts = sentence.split()\n",
    "sentence_in_parts"
   ]
  },
  {
   "cell_type": "code",
   "execution_count": 40,
   "metadata": {},
   "outputs": [
    {
     "data": {
      "text/plain": [
       "7"
      ]
     },
     "execution_count": 40,
     "metadata": {},
     "output_type": "execute_result"
    }
   ],
   "source": [
    "word_count = len(sentence_in_parts)\n",
    "word_count"
   ]
  },
  {
   "cell_type": "code",
   "execution_count": 42,
   "metadata": {},
   "outputs": [
    {
     "data": {
      "text/plain": [
       "'My Ihor'"
      ]
     },
     "execution_count": 42,
     "metadata": {},
     "output_type": "execute_result"
    }
   ],
   "source": [
    "new_sentence = sentence_in_parts[0] + ' ' + sentence_in_parts[word_count-1]\n",
    "new_sentence"
   ]
  },
  {
   "cell_type": "markdown",
   "metadata": {},
   "source": [
    "#### Завдання 4"
   ]
  },
  {
   "cell_type": "markdown",
   "metadata": {},
   "source": [
    "Перевірте, чи справджується формула: $$ sin^2x + cos^2x = 1$$\n",
    "\n",
    "Напишіть код, що реалізує цю формулу. Нагадую, що тригонометричні функції приймають аргументи в радіанній мірі"
   ]
  },
  {
   "cell_type": "code",
   "execution_count": 53,
   "metadata": {},
   "outputs": [
    {
     "name": "stdout",
     "output_type": "stream",
     "text": [
      "45\n",
      "1.0000000000000002\n"
     ]
    }
   ],
   "source": [
    "x = int(input())\n",
    "import math\n",
    "x = radians(x)\n",
    "print(sin(x) ** 2 + cos(x) ** 2)"
   ]
  },
  {
   "cell_type": "markdown",
   "metadata": {},
   "source": [
    "#### Завдання 5"
   ]
  },
  {
   "cell_type": "markdown",
   "metadata": {},
   "source": [
    "Напишіть програму для обчислення коренів квадратного рівняння.\n",
    "\n",
    "Нагадую, що `n`-го степеня має `n` коренів. (Корені можуть бути комплексні)"
   ]
  },
  {
   "cell_type": "code",
   "execution_count": 79,
   "metadata": {},
   "outputs": [
    {
     "name": "stdout",
     "output_type": "stream",
     "text": [
      "2\n",
      "3\n",
      "4\n",
      "Дискриминант равен -23\n",
      "z1 = (-0.75+1.1989578808281798j) \n",
      "z2 = (-0.75-1.1989578808281798j)\n"
     ]
    }
   ],
   "source": [
    "import cmath\n",
    "a = int(input())\n",
    "b = int(input())\n",
    "c = int(input())\n",
    "try:\n",
    "    discr = b ** 2 - 4 * a * c\n",
    "    print(f'Дискриминант равен {discr}')\n",
    "    if discr > 0:\n",
    "        x1 = (-b + cmath.sqrt(discr)) / (2 * a)\n",
    "        x2 = (-b - cmath.sqrt(discr)) / (2 * a)\n",
    "        print(f'x1 = {x1} \\nx2 = {x2}')\n",
    "    elif discr == 0:\n",
    "        x = -b / (2 * a)\n",
    "        print(f'x = {x}')\n",
    "    else:\n",
    "        z_discr = complex(0, abs(discr) ** 0.5)\n",
    "        z1 = (-b + z_discr) / (2 * a)\n",
    "        z2 = (-b - z_discr) / (2 * a)\n",
    "        print(f'z1 = {z1} \\nz2 = {z2}')\n",
    "except:\n",
    "    print('Коэффициент a не должен быть равен 0')\n"
   ]
  },
  {
   "cell_type": "markdown",
   "metadata": {},
   "source": [
    "#### Завдання 6"
   ]
  },
  {
   "cell_type": "markdown",
   "metadata": {},
   "source": [
    "Напишіть програму, що виводить речення: <i>\"Діаметр планети `Planet` дорівнює` Diament`\"</i>, \n",
    "\n",
    "де `Planet` та `Diament` вводить користувач"
   ]
  },
  {
   "cell_type": "code",
   "execution_count": 59,
   "metadata": {},
   "outputs": [
    {
     "name": "stdout",
     "output_type": "stream",
     "text": [
      "Введите название планеты Mars\n",
      "Введите диаметр планеты 456\n",
      "Діаметр планети Mars дорівнює 456.\n"
     ]
    }
   ],
   "source": [
    "Planet = input('Введите название планеты ')\n",
    "Diametr = input('Введите диаметр планеты ')\n",
    "print(f'Діаметр планети {Planet} дорівнює {Diametr}.')"
   ]
  },
  {
   "cell_type": "code",
   "execution_count": null,
   "metadata": {},
   "outputs": [],
   "source": []
  }
 ],
 "metadata": {
  "kernelspec": {
   "display_name": "Python 3 (ipykernel)",
   "language": "python",
   "name": "python3"
  },
  "language_info": {
   "codemirror_mode": {
    "name": "ipython",
    "version": 3
   },
   "file_extension": ".py",
   "mimetype": "text/x-python",
   "name": "python",
   "nbconvert_exporter": "python",
   "pygments_lexer": "ipython3",
   "version": "3.9.7"
  }
 },
 "nbformat": 4,
 "nbformat_minor": 2
}
